{
 "cells": [
  {
   "cell_type": "markdown",
   "id": "bc0222ff",
   "metadata": {},
   "source": [
    "# Linear Regression Model\n",
    "\n",
    "%%%%%%%%%%%%%%%%%%%%%%%%%%%%%%%%%%%%%%%%%%%%%%%%%%%%%%%%%%%%%%%%%%%%%%%%%%%%%%\n",
    "This code is the implementation of linear regression model for the \n",
    "predication of mixerindex for micromixer.\n",
    "\n",
    "We are using linear regression model which is imported from Sklearn library.\n",
    "\n",
    "Data is comprised of 60 samples. Each training sample is consist of three input\n",
    "features(x1,x2,x3) and corresponding output(y) i.e mixingindex.\n",
    "\n",
    "x1= W (mixer vertical length -mm)\n",
    "x2= t (channel width - mm)\n",
    "x3= n (number of mixers)\n",
    "y= mixingindex\n",
    "\n",
    "linear model\n",
    "h=theta0+ theta1*x1+ theta2*x2+ theta3*x3 \n",
    "\n",
    "these theta's are trained during training.\n",
    "\n",
    "%%%%%%%%%%%%%%%%%%%%%%%%%%%%%%%%%%%%%%%%%%%%%%%%%%%%%%%%%%%%%%%%%%%%%%%%%%%%%%%\n",
    "\n",
    "1. Importing required packages.\n",
    "2. Read the data/load the data.\n",
    "3. Data Cleaning.\n",
    "4. Visualizing the data, how data looks like.\n",
    "5. Spliting dataset into training and testing data.\n",
    "6. Imported Linear regression model is Trained using training data\n",
    "7. Predication is performed by trained model using testing data\n",
    "8. Evaluate the Model: Measure the Mean Sqaure Error\n",
    "9. Prediction for the new sample\n",
    "\n"
   ]
  },
  {
   "cell_type": "markdown",
   "id": "013af4b8",
   "metadata": {},
   "source": [
    "# Importing required packages"
   ]
  },
  {
   "cell_type": "code",
   "execution_count": 1,
   "id": "95f74e13",
   "metadata": {},
   "outputs": [],
   "source": [
    "import numpy as np\n",
    "import pandas as pd\n",
    "import matplotlib.pyplot as plt\n",
    "from sklearn import datasets, linear_model\n",
    "from sklearn.metrics import  mean_squared_error\n",
    "%matplotlib inline"
   ]
  },
  {
   "cell_type": "markdown",
   "id": "01d435d2",
   "metadata": {},
   "source": [
    "#  Read the data/load the data"
   ]
  },
  {
   "cell_type": "code",
   "execution_count": 2,
   "id": "75f9655b",
   "metadata": {},
   "outputs": [],
   "source": [
    "# we are using pandas libaray for reading the file\n",
    "# We are reading ecxel file and path should be where you ecxel file is located.\n",
    "# place \"r\" before the path string to address special character,such as '\\'.\n",
    "# Don't forget to put the file name at the end of the path + '.xlsx'\n",
    "\n",
    "data=pd.read_excel(r\"C:\\python\\Fluids Project\\Micromixer_Data_for_RectSerpentine.xlsx\")\n"
   ]
  },
  {
   "cell_type": "code",
   "execution_count": 3,
   "id": "e70fcb63",
   "metadata": {},
   "outputs": [
    {
     "data": {
      "text/html": [
       "<div>\n",
       "<style scoped>\n",
       "    .dataframe tbody tr th:only-of-type {\n",
       "        vertical-align: middle;\n",
       "    }\n",
       "\n",
       "    .dataframe tbody tr th {\n",
       "        vertical-align: top;\n",
       "    }\n",
       "\n",
       "    .dataframe thead th {\n",
       "        text-align: right;\n",
       "    }\n",
       "</style>\n",
       "<table border=\"1\" class=\"dataframe\">\n",
       "  <thead>\n",
       "    <tr style=\"text-align: right;\">\n",
       "      <th></th>\n",
       "      <th>Design number</th>\n",
       "      <th>W (mixer vertical length -mm)</th>\n",
       "      <th>t (channel width - mm)</th>\n",
       "      <th>n (number of mixers)</th>\n",
       "      <th>MixingIndex</th>\n",
       "      <th>Unnamed: 5</th>\n",
       "      <th>Unnamed: 6</th>\n",
       "      <th>Unnamed: 7</th>\n",
       "      <th>Unnamed: 8</th>\n",
       "      <th>Unnamed: 9</th>\n",
       "    </tr>\n",
       "  </thead>\n",
       "  <tbody>\n",
       "    <tr>\n",
       "      <th>0</th>\n",
       "      <td>1</td>\n",
       "      <td>0.6</td>\n",
       "      <td>0.08</td>\n",
       "      <td>1</td>\n",
       "      <td>0.91447</td>\n",
       "      <td>NaN</td>\n",
       "      <td>NaN</td>\n",
       "      <td>NaN</td>\n",
       "      <td>NaN</td>\n",
       "      <td>Yellows are input parameters</td>\n",
       "    </tr>\n",
       "    <tr>\n",
       "      <th>1</th>\n",
       "      <td>2</td>\n",
       "      <td>0.6</td>\n",
       "      <td>0.08</td>\n",
       "      <td>2</td>\n",
       "      <td>0.99443</td>\n",
       "      <td>NaN</td>\n",
       "      <td>NaN</td>\n",
       "      <td>NaN</td>\n",
       "      <td>NaN</td>\n",
       "      <td>Green is output parameter: The most optimized ...</td>\n",
       "    </tr>\n",
       "    <tr>\n",
       "      <th>2</th>\n",
       "      <td>3</td>\n",
       "      <td>0.6</td>\n",
       "      <td>0.08</td>\n",
       "      <td>3</td>\n",
       "      <td>0.99961</td>\n",
       "      <td>NaN</td>\n",
       "      <td>NaN</td>\n",
       "      <td>NaN</td>\n",
       "      <td>NaN</td>\n",
       "      <td>NaN</td>\n",
       "    </tr>\n",
       "    <tr>\n",
       "      <th>3</th>\n",
       "      <td>4</td>\n",
       "      <td>0.6</td>\n",
       "      <td>0.12</td>\n",
       "      <td>1</td>\n",
       "      <td>0.63460</td>\n",
       "      <td>NaN</td>\n",
       "      <td>NaN</td>\n",
       "      <td>NaN</td>\n",
       "      <td>NaN</td>\n",
       "      <td>NaN</td>\n",
       "    </tr>\n",
       "    <tr>\n",
       "      <th>4</th>\n",
       "      <td>5</td>\n",
       "      <td>0.6</td>\n",
       "      <td>0.12</td>\n",
       "      <td>2</td>\n",
       "      <td>0.94813</td>\n",
       "      <td>NaN</td>\n",
       "      <td>NaN</td>\n",
       "      <td>NaN</td>\n",
       "      <td>NaN</td>\n",
       "      <td>NaN</td>\n",
       "    </tr>\n",
       "  </tbody>\n",
       "</table>\n",
       "</div>"
      ],
      "text/plain": [
       "   Design number  W (mixer vertical length -mm)  t (channel width - mm)  \\\n",
       "0              1                            0.6                    0.08   \n",
       "1              2                            0.6                    0.08   \n",
       "2              3                            0.6                    0.08   \n",
       "3              4                            0.6                    0.12   \n",
       "4              5                            0.6                    0.12   \n",
       "\n",
       "   n (number of mixers)  MixingIndex  Unnamed: 5  Unnamed: 6  Unnamed: 7  \\\n",
       "0                     1      0.91447         NaN         NaN         NaN   \n",
       "1                     2      0.99443         NaN         NaN         NaN   \n",
       "2                     3      0.99961         NaN         NaN         NaN   \n",
       "3                     1      0.63460         NaN         NaN         NaN   \n",
       "4                     2      0.94813         NaN         NaN         NaN   \n",
       "\n",
       "   Unnamed: 8                                         Unnamed: 9  \n",
       "0         NaN                       Yellows are input parameters  \n",
       "1         NaN  Green is output parameter: The most optimized ...  \n",
       "2         NaN                                                NaN  \n",
       "3         NaN                                                NaN  \n",
       "4         NaN                                                NaN  "
      ]
     },
     "execution_count": 3,
     "metadata": {},
     "output_type": "execute_result"
    }
   ],
   "source": [
    "#Showing the first five entries of data\n",
    "data.head()"
   ]
  },
  {
   "cell_type": "markdown",
   "id": "b0713d30",
   "metadata": {},
   "source": [
    "# Data Cleaning"
   ]
  },
  {
   "cell_type": "code",
   "execution_count": 4,
   "id": "2cd6a54a",
   "metadata": {},
   "outputs": [
    {
     "data": {
      "text/html": [
       "<div>\n",
       "<style scoped>\n",
       "    .dataframe tbody tr th:only-of-type {\n",
       "        vertical-align: middle;\n",
       "    }\n",
       "\n",
       "    .dataframe tbody tr th {\n",
       "        vertical-align: top;\n",
       "    }\n",
       "\n",
       "    .dataframe thead th {\n",
       "        text-align: right;\n",
       "    }\n",
       "</style>\n",
       "<table border=\"1\" class=\"dataframe\">\n",
       "  <thead>\n",
       "    <tr style=\"text-align: right;\">\n",
       "      <th></th>\n",
       "      <th>W (mixer vertical length -mm)</th>\n",
       "      <th>t (channel width - mm)</th>\n",
       "      <th>n (number of mixers)</th>\n",
       "      <th>MixingIndex</th>\n",
       "      <th>Unnamed: 5</th>\n",
       "      <th>Unnamed: 6</th>\n",
       "      <th>Unnamed: 7</th>\n",
       "      <th>Unnamed: 8</th>\n",
       "      <th>Unnamed: 9</th>\n",
       "    </tr>\n",
       "  </thead>\n",
       "  <tbody>\n",
       "    <tr>\n",
       "      <th>0</th>\n",
       "      <td>0.6</td>\n",
       "      <td>0.08</td>\n",
       "      <td>1</td>\n",
       "      <td>0.91447</td>\n",
       "      <td>NaN</td>\n",
       "      <td>NaN</td>\n",
       "      <td>NaN</td>\n",
       "      <td>NaN</td>\n",
       "      <td>Yellows are input parameters</td>\n",
       "    </tr>\n",
       "    <tr>\n",
       "      <th>1</th>\n",
       "      <td>0.6</td>\n",
       "      <td>0.08</td>\n",
       "      <td>2</td>\n",
       "      <td>0.99443</td>\n",
       "      <td>NaN</td>\n",
       "      <td>NaN</td>\n",
       "      <td>NaN</td>\n",
       "      <td>NaN</td>\n",
       "      <td>Green is output parameter: The most optimized ...</td>\n",
       "    </tr>\n",
       "    <tr>\n",
       "      <th>2</th>\n",
       "      <td>0.6</td>\n",
       "      <td>0.08</td>\n",
       "      <td>3</td>\n",
       "      <td>0.99961</td>\n",
       "      <td>NaN</td>\n",
       "      <td>NaN</td>\n",
       "      <td>NaN</td>\n",
       "      <td>NaN</td>\n",
       "      <td>NaN</td>\n",
       "    </tr>\n",
       "    <tr>\n",
       "      <th>3</th>\n",
       "      <td>0.6</td>\n",
       "      <td>0.12</td>\n",
       "      <td>1</td>\n",
       "      <td>0.63460</td>\n",
       "      <td>NaN</td>\n",
       "      <td>NaN</td>\n",
       "      <td>NaN</td>\n",
       "      <td>NaN</td>\n",
       "      <td>NaN</td>\n",
       "    </tr>\n",
       "    <tr>\n",
       "      <th>4</th>\n",
       "      <td>0.6</td>\n",
       "      <td>0.12</td>\n",
       "      <td>2</td>\n",
       "      <td>0.94813</td>\n",
       "      <td>NaN</td>\n",
       "      <td>NaN</td>\n",
       "      <td>NaN</td>\n",
       "      <td>NaN</td>\n",
       "      <td>NaN</td>\n",
       "    </tr>\n",
       "  </tbody>\n",
       "</table>\n",
       "</div>"
      ],
      "text/plain": [
       "   W (mixer vertical length -mm)  t (channel width - mm)  \\\n",
       "0                            0.6                    0.08   \n",
       "1                            0.6                    0.08   \n",
       "2                            0.6                    0.08   \n",
       "3                            0.6                    0.12   \n",
       "4                            0.6                    0.12   \n",
       "\n",
       "   n (number of mixers)  MixingIndex  Unnamed: 5  Unnamed: 6  Unnamed: 7  \\\n",
       "0                     1      0.91447         NaN         NaN         NaN   \n",
       "1                     2      0.99443         NaN         NaN         NaN   \n",
       "2                     3      0.99961         NaN         NaN         NaN   \n",
       "3                     1      0.63460         NaN         NaN         NaN   \n",
       "4                     2      0.94813         NaN         NaN         NaN   \n",
       "\n",
       "   Unnamed: 8                                         Unnamed: 9  \n",
       "0         NaN                       Yellows are input parameters  \n",
       "1         NaN  Green is output parameter: The most optimized ...  \n",
       "2         NaN                                                NaN  \n",
       "3         NaN                                                NaN  \n",
       "4         NaN                                                NaN  "
      ]
     },
     "execution_count": 4,
     "metadata": {},
     "output_type": "execute_result"
    }
   ],
   "source": [
    "# As there some extra columns so we need to perform data cleaning\n",
    "# We are droping column  design number,5,6,7,8, and 9\n",
    "\n",
    "data.drop(columns='Design number', inplace=True)\n",
    "data.head()"
   ]
  },
  {
   "cell_type": "code",
   "execution_count": 5,
   "id": "ed3fbd21",
   "metadata": {},
   "outputs": [
    {
     "data": {
      "text/html": [
       "<div>\n",
       "<style scoped>\n",
       "    .dataframe tbody tr th:only-of-type {\n",
       "        vertical-align: middle;\n",
       "    }\n",
       "\n",
       "    .dataframe tbody tr th {\n",
       "        vertical-align: top;\n",
       "    }\n",
       "\n",
       "    .dataframe thead th {\n",
       "        text-align: right;\n",
       "    }\n",
       "</style>\n",
       "<table border=\"1\" class=\"dataframe\">\n",
       "  <thead>\n",
       "    <tr style=\"text-align: right;\">\n",
       "      <th></th>\n",
       "      <th>W (mixer vertical length -mm)</th>\n",
       "      <th>t (channel width - mm)</th>\n",
       "      <th>n (number of mixers)</th>\n",
       "      <th>MixingIndex</th>\n",
       "    </tr>\n",
       "  </thead>\n",
       "  <tbody>\n",
       "    <tr>\n",
       "      <th>0</th>\n",
       "      <td>0.6</td>\n",
       "      <td>0.08</td>\n",
       "      <td>1</td>\n",
       "      <td>0.91447</td>\n",
       "    </tr>\n",
       "    <tr>\n",
       "      <th>1</th>\n",
       "      <td>0.6</td>\n",
       "      <td>0.08</td>\n",
       "      <td>2</td>\n",
       "      <td>0.99443</td>\n",
       "    </tr>\n",
       "    <tr>\n",
       "      <th>2</th>\n",
       "      <td>0.6</td>\n",
       "      <td>0.08</td>\n",
       "      <td>3</td>\n",
       "      <td>0.99961</td>\n",
       "    </tr>\n",
       "    <tr>\n",
       "      <th>3</th>\n",
       "      <td>0.6</td>\n",
       "      <td>0.12</td>\n",
       "      <td>1</td>\n",
       "      <td>0.63460</td>\n",
       "    </tr>\n",
       "    <tr>\n",
       "      <th>4</th>\n",
       "      <td>0.6</td>\n",
       "      <td>0.12</td>\n",
       "      <td>2</td>\n",
       "      <td>0.94813</td>\n",
       "    </tr>\n",
       "  </tbody>\n",
       "</table>\n",
       "</div>"
      ],
      "text/plain": [
       "   W (mixer vertical length -mm)  t (channel width - mm)  \\\n",
       "0                            0.6                    0.08   \n",
       "1                            0.6                    0.08   \n",
       "2                            0.6                    0.08   \n",
       "3                            0.6                    0.12   \n",
       "4                            0.6                    0.12   \n",
       "\n",
       "   n (number of mixers)  MixingIndex  \n",
       "0                     1      0.91447  \n",
       "1                     2      0.99443  \n",
       "2                     3      0.99961  \n",
       "3                     1      0.63460  \n",
       "4                     2      0.94813  "
      ]
     },
     "execution_count": 5,
     "metadata": {},
     "output_type": "execute_result"
    }
   ],
   "source": [
    "data.drop(columns='Unnamed: 5', inplace=True)\n",
    "data.drop(columns='Unnamed: 6', inplace=True)\n",
    "data.drop(columns='Unnamed: 7', inplace=True)\n",
    "data.drop(columns='Unnamed: 8', inplace=True)\n",
    "data.drop(columns='Unnamed: 9', inplace=True)\n",
    "data.head()"
   ]
  },
  {
   "cell_type": "markdown",
   "id": "189e6dd1",
   "metadata": {},
   "source": [
    "# Visualizing the data, how data looks like."
   ]
  },
  {
   "cell_type": "code",
   "execution_count": 6,
   "id": "7d4846ce",
   "metadata": {},
   "outputs": [
    {
     "name": "stdout",
     "output_type": "stream",
     "text": [
      "<class 'pandas.core.frame.DataFrame'>\n",
      "RangeIndex: 60 entries, 0 to 59\n",
      "Data columns (total 4 columns):\n",
      " #   Column                         Non-Null Count  Dtype  \n",
      "---  ------                         --------------  -----  \n",
      " 0   W (mixer vertical length -mm)  60 non-null     float64\n",
      " 1   t (channel width - mm)         60 non-null     float64\n",
      " 2   n (number of mixers)           60 non-null     int64  \n",
      " 3   MixingIndex                    60 non-null     float64\n",
      "dtypes: float64(3), int64(1)\n",
      "memory usage: 2.0 KB\n"
     ]
    }
   ],
   "source": [
    "# Information about your data, how many entries and which type of data is present in dataframe\n",
    "data.info()"
   ]
  },
  {
   "cell_type": "code",
   "execution_count": 7,
   "id": "5ef32436",
   "metadata": {},
   "outputs": [
    {
     "data": {
      "text/plain": [
       "(60, 4)"
      ]
     },
     "execution_count": 7,
     "metadata": {},
     "output_type": "execute_result"
    }
   ],
   "source": [
    "#tells the shape of dataframe\n",
    "data.shape"
   ]
  },
  {
   "cell_type": "code",
   "execution_count": 8,
   "id": "1d9c1ef7",
   "metadata": {},
   "outputs": [
    {
     "data": {
      "text/plain": [
       "<AxesSubplot:xlabel='W (mixer vertical length -mm)', ylabel='MixingIndex'>"
      ]
     },
     "execution_count": 8,
     "metadata": {},
     "output_type": "execute_result"
    },
    {
     "data": {
      "image/png": "[encoded data removed]",
      "text/plain": [
       "<Figure size 432x288 with 1 Axes>"
      ]
     },
     "metadata": {
      "needs_background": "light"
     },
     "output_type": "display_data"
    },
    {
     "data": {
      "image/png": "[encoded data removed]",
      "text/plain": [
       "<Figure size 432x432 with 1 Axes>"
      ]
     },
     "metadata": {
      "needs_background": "light"
     },
     "output_type": "display_data"
    }
   ],
   "source": [
    "data.plot(xlim=(0,10))\n",
    "\n",
    "data.plot(kind='scatter', x='W (mixer vertical length -mm)', y='MixingIndex', figsize=(6,6))"
   ]
  },
  {
   "cell_type": "code",
   "execution_count": 9,
   "id": "ef89539e",
   "metadata": {},
   "outputs": [
    {
     "data": {
      "text/plain": [
       "<AxesSubplot:xlabel='t (channel width - mm)', ylabel='MixingIndex'>"
      ]
     },
     "execution_count": 9,
     "metadata": {},
     "output_type": "execute_result"
    },
    {
     "data": {
      "image/png": "[encoded data removed]",
      "text/plain": [
       "<Figure size 432x432 with 1 Axes>"
      ]
     },
     "metadata": {
      "needs_background": "light"
     },
     "output_type": "display_data"
    }
   ],
   "source": [
    "data.plot(kind='scatter', x='t (channel width - mm)', y='MixingIndex', figsize=(6,6))"
   ]
  },
  {
   "cell_type": "code",
   "execution_count": 10,
   "id": "7186031b",
   "metadata": {},
   "outputs": [
    {
     "data": {
      "text/plain": [
       "<AxesSubplot:xlabel='t (channel width - mm)', ylabel='n (number of mixers)'>"
      ]
     },
     "execution_count": 10,
     "metadata": {},
     "output_type": "execute_result"
    },
    {
     "data": {
      "image/png": "[encoded data removed]",
      "text/plain": [
       "<Figure size 432x432 with 1 Axes>"
      ]
     },
     "metadata": {
      "needs_background": "light"
     },
     "output_type": "display_data"
    }
   ],
   "source": [
    "data.plot(kind='scatter', x='t (channel width - mm)', y='n (number of mixers)', figsize=(6,6))"
   ]
  },
  {
   "cell_type": "code",
   "execution_count": 11,
   "id": "03b1bd62",
   "metadata": {},
   "outputs": [
    {
     "data": {
      "text/plain": [
       "<AxesSubplot:xlabel='n (number of mixers)', ylabel='MixingIndex'>"
      ]
     },
     "execution_count": 11,
     "metadata": {},
     "output_type": "execute_result"
    },
    {
     "data": {
      "image/png": "[encoded data removed]",
      "text/plain": [
       "<Figure size 432x432 with 1 Axes>"
      ]
     },
     "metadata": {
      "needs_background": "light"
     },
     "output_type": "display_data"
    }
   ],
   "source": [
    "data.plot(kind='scatter', x='n (number of mixers)', y='MixingIndex', figsize=(6,6))"
   ]
  },
  {
   "cell_type": "markdown",
   "id": "1a39e9b0",
   "metadata": {},
   "source": [
    "# Spliting dataset into training and testing data\n",
    "\n",
    "Total of 60 samples we are taking first 40 samples as training data and last 20 samples as testing data"
   ]
  },
  {
   "cell_type": "code",
   "execution_count": 12,
   "id": "f29beb67",
   "metadata": {},
   "outputs": [
    {
     "data": {
      "text/html": [
       "<div>\n",
       "<style scoped>\n",
       "    .dataframe tbody tr th:only-of-type {\n",
       "        vertical-align: middle;\n",
       "    }\n",
       "\n",
       "    .dataframe tbody tr th {\n",
       "        vertical-align: top;\n",
       "    }\n",
       "\n",
       "    .dataframe thead th {\n",
       "        text-align: right;\n",
       "    }\n",
       "</style>\n",
       "<table border=\"1\" class=\"dataframe\">\n",
       "  <thead>\n",
       "    <tr style=\"text-align: right;\">\n",
       "      <th></th>\n",
       "      <th>W (mixer vertical length -mm)</th>\n",
       "      <th>t (channel width - mm)</th>\n",
       "      <th>n (number of mixers)</th>\n",
       "    </tr>\n",
       "  </thead>\n",
       "  <tbody>\n",
       "    <tr>\n",
       "      <th>0</th>\n",
       "      <td>0.6</td>\n",
       "      <td>0.08</td>\n",
       "      <td>1</td>\n",
       "    </tr>\n",
       "    <tr>\n",
       "      <th>1</th>\n",
       "      <td>0.6</td>\n",
       "      <td>0.08</td>\n",
       "      <td>2</td>\n",
       "    </tr>\n",
       "    <tr>\n",
       "      <th>2</th>\n",
       "      <td>0.6</td>\n",
       "      <td>0.08</td>\n",
       "      <td>3</td>\n",
       "    </tr>\n",
       "    <tr>\n",
       "      <th>3</th>\n",
       "      <td>0.6</td>\n",
       "      <td>0.12</td>\n",
       "      <td>1</td>\n",
       "    </tr>\n",
       "    <tr>\n",
       "      <th>4</th>\n",
       "      <td>0.6</td>\n",
       "      <td>0.12</td>\n",
       "      <td>2</td>\n",
       "    </tr>\n",
       "  </tbody>\n",
       "</table>\n",
       "</div>"
      ],
      "text/plain": [
       "   W (mixer vertical length -mm)  t (channel width - mm)  n (number of mixers)\n",
       "0                            0.6                    0.08                     1\n",
       "1                            0.6                    0.08                     2\n",
       "2                            0.6                    0.08                     3\n",
       "3                            0.6                    0.12                     1\n",
       "4                            0.6                    0.12                     2"
      ]
     },
     "execution_count": 12,
     "metadata": {},
     "output_type": "execute_result"
    }
   ],
   "source": [
    "#Training data\n",
    "training_data=data.iloc[:40, 0:3]\n",
    "training_data.head()"
   ]
  },
  {
   "cell_type": "code",
   "execution_count": 13,
   "id": "aae46f5d",
   "metadata": {},
   "outputs": [
    {
     "data": {
      "text/plain": [
       "(40, 3)"
      ]
     },
     "execution_count": 13,
     "metadata": {},
     "output_type": "execute_result"
    }
   ],
   "source": [
    "training_data.shape"
   ]
  },
  {
   "cell_type": "code",
   "execution_count": 14,
   "id": "8c230b7a",
   "metadata": {},
   "outputs": [
    {
     "data": {
      "text/html": [
       "<div>\n",
       "<style scoped>\n",
       "    .dataframe tbody tr th:only-of-type {\n",
       "        vertical-align: middle;\n",
       "    }\n",
       "\n",
       "    .dataframe tbody tr th {\n",
       "        vertical-align: top;\n",
       "    }\n",
       "\n",
       "    .dataframe thead th {\n",
       "        text-align: right;\n",
       "    }\n",
       "</style>\n",
       "<table border=\"1\" class=\"dataframe\">\n",
       "  <thead>\n",
       "    <tr style=\"text-align: right;\">\n",
       "      <th></th>\n",
       "      <th>W (mixer vertical length -mm)</th>\n",
       "      <th>t (channel width - mm)</th>\n",
       "      <th>n (number of mixers)</th>\n",
       "    </tr>\n",
       "  </thead>\n",
       "  <tbody>\n",
       "    <tr>\n",
       "      <th>count</th>\n",
       "      <td>40.000000</td>\n",
       "      <td>40.00000</td>\n",
       "      <td>40.000000</td>\n",
       "    </tr>\n",
       "    <tr>\n",
       "      <th>mean</th>\n",
       "      <td>0.720000</td>\n",
       "      <td>0.13500</td>\n",
       "      <td>1.975000</td>\n",
       "    </tr>\n",
       "    <tr>\n",
       "      <th>std</th>\n",
       "      <td>0.099228</td>\n",
       "      <td>0.04591</td>\n",
       "      <td>0.831665</td>\n",
       "    </tr>\n",
       "    <tr>\n",
       "      <th>min</th>\n",
       "      <td>0.600000</td>\n",
       "      <td>0.08000</td>\n",
       "      <td>1.000000</td>\n",
       "    </tr>\n",
       "    <tr>\n",
       "      <th>25%</th>\n",
       "      <td>0.600000</td>\n",
       "      <td>0.08000</td>\n",
       "      <td>1.000000</td>\n",
       "    </tr>\n",
       "    <tr>\n",
       "      <th>50%</th>\n",
       "      <td>0.700000</td>\n",
       "      <td>0.12000</td>\n",
       "      <td>2.000000</td>\n",
       "    </tr>\n",
       "    <tr>\n",
       "      <th>75%</th>\n",
       "      <td>0.800000</td>\n",
       "      <td>0.16000</td>\n",
       "      <td>3.000000</td>\n",
       "    </tr>\n",
       "    <tr>\n",
       "      <th>max</th>\n",
       "      <td>0.900000</td>\n",
       "      <td>0.20000</td>\n",
       "      <td>3.000000</td>\n",
       "    </tr>\n",
       "  </tbody>\n",
       "</table>\n",
       "</div>"
      ],
      "text/plain": [
       "       W (mixer vertical length -mm)  t (channel width - mm)  \\\n",
       "count                      40.000000                40.00000   \n",
       "mean                        0.720000                 0.13500   \n",
       "std                         0.099228                 0.04591   \n",
       "min                         0.600000                 0.08000   \n",
       "25%                         0.600000                 0.08000   \n",
       "50%                         0.700000                 0.12000   \n",
       "75%                         0.800000                 0.16000   \n",
       "max                         0.900000                 0.20000   \n",
       "\n",
       "       n (number of mixers)  \n",
       "count             40.000000  \n",
       "mean               1.975000  \n",
       "std                0.831665  \n",
       "min                1.000000  \n",
       "25%                1.000000  \n",
       "50%                2.000000  \n",
       "75%                3.000000  \n",
       "max                3.000000  "
      ]
     },
     "execution_count": 14,
     "metadata": {},
     "output_type": "execute_result"
    }
   ],
   "source": [
    "training_data.describe()"
   ]
  },
  {
   "cell_type": "code",
   "execution_count": 15,
   "id": "da536356",
   "metadata": {},
   "outputs": [
    {
     "data": {
      "text/plain": [
       "0    0.91447\n",
       "1    0.99443\n",
       "2    0.99961\n",
       "3    0.63460\n",
       "4    0.94813\n",
       "Name: MixingIndex, dtype: float64"
      ]
     },
     "execution_count": 15,
     "metadata": {},
     "output_type": "execute_result"
    }
   ],
   "source": [
    "training_label=data.iloc[:40, -1]\n",
    "training_label.head()"
   ]
  },
  {
   "cell_type": "code",
   "execution_count": 16,
   "id": "9262b969",
   "metadata": {},
   "outputs": [
    {
     "name": "stdout",
     "output_type": "stream",
     "text": [
      "shape: (40,)\n",
      "type: float64\n"
     ]
    }
   ],
   "source": [
    "print('shape:', training_label.shape)\n",
    "print('type:', training_label.dtype)"
   ]
  },
  {
   "cell_type": "code",
   "execution_count": 17,
   "id": "439aca40",
   "metadata": {},
   "outputs": [
    {
     "data": {
      "text/html": [
       "<div>\n",
       "<style scoped>\n",
       "    .dataframe tbody tr th:only-of-type {\n",
       "        vertical-align: middle;\n",
       "    }\n",
       "\n",
       "    .dataframe tbody tr th {\n",
       "        vertical-align: top;\n",
       "    }\n",
       "\n",
       "    .dataframe thead th {\n",
       "        text-align: right;\n",
       "    }\n",
       "</style>\n",
       "<table border=\"1\" class=\"dataframe\">\n",
       "  <thead>\n",
       "    <tr style=\"text-align: right;\">\n",
       "      <th></th>\n",
       "      <th>W (mixer vertical length -mm)</th>\n",
       "      <th>t (channel width - mm)</th>\n",
       "      <th>n (number of mixers)</th>\n",
       "    </tr>\n",
       "  </thead>\n",
       "  <tbody>\n",
       "    <tr>\n",
       "      <th>41</th>\n",
       "      <td>0.9</td>\n",
       "      <td>0.12</td>\n",
       "      <td>3</td>\n",
       "    </tr>\n",
       "    <tr>\n",
       "      <th>42</th>\n",
       "      <td>0.9</td>\n",
       "      <td>0.16</td>\n",
       "      <td>1</td>\n",
       "    </tr>\n",
       "    <tr>\n",
       "      <th>43</th>\n",
       "      <td>0.9</td>\n",
       "      <td>0.16</td>\n",
       "      <td>2</td>\n",
       "    </tr>\n",
       "    <tr>\n",
       "      <th>44</th>\n",
       "      <td>0.9</td>\n",
       "      <td>0.16</td>\n",
       "      <td>3</td>\n",
       "    </tr>\n",
       "    <tr>\n",
       "      <th>45</th>\n",
       "      <td>0.9</td>\n",
       "      <td>0.20</td>\n",
       "      <td>1</td>\n",
       "    </tr>\n",
       "  </tbody>\n",
       "</table>\n",
       "</div>"
      ],
      "text/plain": [
       "    W (mixer vertical length -mm)  t (channel width - mm)  \\\n",
       "41                            0.9                    0.12   \n",
       "42                            0.9                    0.16   \n",
       "43                            0.9                    0.16   \n",
       "44                            0.9                    0.16   \n",
       "45                            0.9                    0.20   \n",
       "\n",
       "    n (number of mixers)  \n",
       "41                     3  \n",
       "42                     1  \n",
       "43                     2  \n",
       "44                     3  \n",
       "45                     1  "
      ]
     },
     "execution_count": 17,
     "metadata": {},
     "output_type": "execute_result"
    }
   ],
   "source": [
    "#testing data\n",
    "\n",
    "testing_data=data.iloc[41:, 0:3]\n",
    "testing_data.head()"
   ]
  },
  {
   "cell_type": "code",
   "execution_count": 18,
   "id": "5e84bc18",
   "metadata": {},
   "outputs": [
    {
     "data": {
      "text/plain": [
       "41    0.99519\n",
       "42    0.44521\n",
       "43    0.86065\n",
       "44    0.96091\n",
       "45    0.14609\n",
       "Name: MixingIndex, dtype: float64"
      ]
     },
     "execution_count": 18,
     "metadata": {},
     "output_type": "execute_result"
    }
   ],
   "source": [
    "testing_label=data.iloc[41:, -1]\n",
    "testing_label.head()"
   ]
  },
  {
   "cell_type": "markdown",
   "id": "0e613abf",
   "metadata": {},
   "source": [
    "# Imported Linear regression model is Trained using training data"
   ]
  },
  {
   "cell_type": "code",
   "execution_count": 19,
   "id": "6509eb8e",
   "metadata": {},
   "outputs": [
    {
     "data": {
      "text/plain": [
       "LinearRegression(normalize=True)"
      ]
     },
     "execution_count": 19,
     "metadata": {},
     "output_type": "execute_result"
    }
   ],
   "source": [
    "# linear regression model from sklearn is used\n",
    "# normalization is performed\n",
    "model = linear_model.LinearRegression(normalize=True)\n",
    "\n",
    "#model is trained using our data\n",
    "model.fit(training_data,training_label)"
   ]
  },
  {
   "cell_type": "markdown",
   "id": "489475e6",
   "metadata": {},
   "source": [
    "# Predication is performed by trained model using testing data"
   ]
  },
  {
   "cell_type": "code",
   "execution_count": 20,
   "id": "47bcd525",
   "metadata": {},
   "outputs": [],
   "source": [
    "# Now prediction is formed using trained model\n",
    "y_predicted = model.predict(testing_data)"
   ]
  },
  {
   "cell_type": "code",
   "execution_count": 21,
   "id": "03d79c55",
   "metadata": {},
   "outputs": [
    {
     "name": "stdout",
     "output_type": "stream",
     "text": [
      "Feature: 0, Score: 0.12677\n",
      "Feature: 1, Score: -3.76483\n",
      "Feature: 2, Score: 0.19043\n"
     ]
    },
    {
     "data": {
      "image/png": "[encoded data removed]",
      "text/plain": [
       "<Figure size 432x288 with 1 Axes>"
      ]
     },
     "metadata": {
      "needs_background": "light"
     },
     "output_type": "display_data"
    }
   ],
   "source": [
    "# Checking the importance of features\n",
    "importance = model.coef_\n",
    "\n",
    "# summarize feature importance\n",
    "for i,v in enumerate(importance):\n",
    "\tprint('Feature: %0d, Score: %.5f' % (i,v))\n",
    "# plot feature importance\n",
    "\n",
    "plt.bar([x for x in range(len(importance))], importance)\n",
    "plt.show()"
   ]
  },
  {
   "cell_type": "markdown",
   "id": "42c09472",
   "metadata": {},
   "source": [
    "# Evaluate the Model: Measure the Mean Sqaure Error"
   ]
  },
  {
   "cell_type": "code",
   "execution_count": 22,
   "id": "801f58da",
   "metadata": {},
   "outputs": [
    {
     "name": "stdout",
     "output_type": "stream",
     "text": [
      "Mean squared error is:  0.015285741290309757\n",
      "Weights:  [ 0.12676605 -3.7648329   0.19042849]\n",
      "Intercept:  0.8271818341589408\n"
     ]
    }
   ],
   "source": [
    "# Model is evaluated by measuring Mean squared error\n",
    "print(\"Mean squared error is: \", mean_squared_error(testing_label, y_predicted))\n",
    "\n",
    "print(\"Weights: \", model.coef_)\n",
    "print(\"Intercept: \", model.intercept_)"
   ]
  },
  {
   "cell_type": "code",
   "execution_count": 23,
   "id": "856b4e25",
   "metadata": {},
   "outputs": [
    {
     "data": {
      "text/plain": [
       "41    3\n",
       "42    1\n",
       "43    2\n",
       "44    3\n",
       "45    1\n",
       "Name: n (number of mixers), dtype: int64"
      ]
     },
     "execution_count": 23,
     "metadata": {},
     "output_type": "execute_result"
    }
   ],
   "source": [
    "X=testing_data['n (number of mixers)']\n",
    "X.head()"
   ]
  },
  {
   "cell_type": "markdown",
   "id": "0670ecb1",
   "metadata": {},
   "source": [
    "#  Prediction for the new sample"
   ]
  },
  {
   "cell_type": "code",
   "execution_count": 24,
   "id": "971be324",
   "metadata": {},
   "outputs": [],
   "source": [
    "#Just for checking I have taken testing sample"
   ]
  },
  {
   "cell_type": "code",
   "execution_count": 25,
   "id": "0df90302",
   "metadata": {},
   "outputs": [
    {
     "name": "stdout",
     "output_type": "stream",
     "text": [
      "input features\n"
     ]
    },
    {
     "data": {
      "text/plain": [
       "W (mixer vertical length -mm)    0.90\n",
       "t (channel width - mm)           0.16\n",
       "n (number of mixers)             3.00\n",
       "Name: 44, dtype: float64"
      ]
     },
     "execution_count": 25,
     "metadata": {},
     "output_type": "execute_result"
    }
   ],
   "source": [
    "print('input features')\n",
    "testing_data.iloc[3]"
   ]
  },
  {
   "cell_type": "code",
   "execution_count": 26,
   "id": "d9e72ab8",
   "metadata": {},
   "outputs": [
    {
     "name": "stdout",
     "output_type": "stream",
     "text": [
      "Mixingidex\n"
     ]
    },
    {
     "data": {
      "text/plain": [
       "0.96091"
      ]
     },
     "execution_count": 26,
     "metadata": {},
     "output_type": "execute_result"
    }
   ],
   "source": [
    "print('Mixingidex')\n",
    "testing_label.iloc[3]"
   ]
  },
  {
   "cell_type": "code",
   "execution_count": 27,
   "id": "3d061c98",
   "metadata": {},
   "outputs": [],
   "source": [
    "# Here you can enter new input in array below"
   ]
  },
  {
   "cell_type": "code",
   "execution_count": 28,
   "id": "a8131275",
   "metadata": {},
   "outputs": [
    {
     "data": {
      "text/plain": [
       "array([0.9 , 0.16, 3.  ])"
      ]
     },
     "execution_count": 28,
     "metadata": {},
     "output_type": "execute_result"
    }
   ],
   "source": [
    "test_sample= np.array([0.9,0.16,3])\n",
    "test_sample"
   ]
  },
  {
   "cell_type": "code",
   "execution_count": 29,
   "id": "81502e8e",
   "metadata": {},
   "outputs": [
    {
     "data": {
      "text/plain": [
       "(3,)"
      ]
     },
     "execution_count": 29,
     "metadata": {},
     "output_type": "execute_result"
    }
   ],
   "source": [
    "test_sample.shape"
   ]
  },
  {
   "cell_type": "code",
   "execution_count": 30,
   "id": "c0ab2c43",
   "metadata": {},
   "outputs": [
    {
     "data": {
      "text/plain": [
       "numpy.ndarray"
      ]
     },
     "execution_count": 30,
     "metadata": {},
     "output_type": "execute_result"
    }
   ],
   "source": [
    "type(test_sample)"
   ]
  },
  {
   "cell_type": "code",
   "execution_count": 31,
   "id": "56d38aed",
   "metadata": {},
   "outputs": [
    {
     "data": {
      "text/plain": [
       "1"
      ]
     },
     "execution_count": 31,
     "metadata": {},
     "output_type": "execute_result"
    }
   ],
   "source": [
    "test_sample.ndim"
   ]
  },
  {
   "cell_type": "code",
   "execution_count": 32,
   "id": "1629fe5b",
   "metadata": {},
   "outputs": [
    {
     "name": "stdout",
     "output_type": "stream",
     "text": [
      "(1, 3)\n",
      "2\n"
     ]
    }
   ],
   "source": [
    "test_sample=test_sample.reshape(1,3)\n",
    "print(test_sample.shape)\n",
    "print(test_sample.ndim)"
   ]
  },
  {
   "cell_type": "code",
   "execution_count": 33,
   "id": "b15e4153",
   "metadata": {},
   "outputs": [],
   "source": [
    "y_predicted = model.predict(test_sample)"
   ]
  },
  {
   "cell_type": "code",
   "execution_count": 34,
   "id": "471de6d3",
   "metadata": {},
   "outputs": [
    {
     "data": {
      "text/plain": [
       "array([0.9101835])"
      ]
     },
     "execution_count": 34,
     "metadata": {},
     "output_type": "execute_result"
    }
   ],
   "source": [
    "y_predicted"
   ]
  },
  {
   "cell_type": "code",
   "execution_count": null,
   "id": "ef2a83a5",
   "metadata": {},
   "outputs": [],
   "source": []
  }
 ],
 "metadata": {
  "kernelspec": {
   "display_name": "Python 3 (ipykernel)",
   "language": "python",
   "name": "python3"
  },
  "language_info": {
   "codemirror_mode": {
    "name": "ipython",
    "version": 3
   },
   "file_extension": ".py",
   "mimetype": "text/x-python",
   "name": "python",
   "nbconvert_exporter": "python",
   "pygments_lexer": "ipython3",
   "version": "3.9.7"
  }
 },
 "nbformat": 4,
 "nbformat_minor": 5
}
